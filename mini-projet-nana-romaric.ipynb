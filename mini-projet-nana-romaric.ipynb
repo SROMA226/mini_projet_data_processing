{
 "cells": [
  {
   "cell_type": "code",
   "execution_count": 1,
   "id": "4271c503",
   "metadata": {},
   "outputs": [],
   "source": [
    "import pandas as pd"
   ]
  },
  {
   "cell_type": "code",
   "execution_count": 2,
   "id": "4ef46405",
   "metadata": {
    "scrolled": true
   },
   "outputs": [
    {
     "name": "stdout",
     "output_type": "stream",
     "text": [
      "File Name                                             Modified             Size\n",
      "readme.txt                                     2021-10-28 03:19:48         8716\n",
      "BF.txt                                         2021-10-28 03:19:48      1182036\n",
      "None\n",
      "Extracting all files...\n",
      "Done!\n"
     ]
    }
   ],
   "source": [
    "## extracting zip file\n",
    "import zipfile\n",
    "\n",
    "def main():\n",
    "\n",
    "    # assigning filename to a variable\n",
    "    file_name = 'BF.zip'\n",
    "\n",
    "    # opening Zip using 'with' keyword in read mode\n",
    "    with zipfile.ZipFile(file_name, 'r') as file:\n",
    "        # printing all the information of archive file contents using 'printdir' method\n",
    "        print(file.printdir())\n",
    "\n",
    "        # extracting the files using 'extracall' method\n",
    "        print('Extracting all files...')\n",
    "        file.extractall()\n",
    "        print('Done!') # check your directory of zip file to see the extracted files\n",
    "\n",
    "if __name__ == '__main__': main()"
   ]
  },
  {
   "cell_type": "code",
   "execution_count": 3,
   "id": "b8d5e77d",
   "metadata": {},
   "outputs": [],
   "source": [
    "df = pd.read_csv('BF.txt', sep='\\t', header=None)"
   ]
  },
  {
   "cell_type": "code",
   "execution_count": 4,
   "id": "c4daff76",
   "metadata": {},
   "outputs": [
    {
     "data": {
      "text/plain": [
       "(11297, 19)"
      ]
     },
     "execution_count": 4,
     "metadata": {},
     "output_type": "execute_result"
    }
   ],
   "source": [
    "df.shape"
   ]
  },
  {
   "cell_type": "code",
   "execution_count": 5,
   "id": "af523112",
   "metadata": {},
   "outputs": [],
   "source": [
    "df=df[[0,1,4,5]]"
   ]
  },
  {
   "cell_type": "code",
   "execution_count": 6,
   "id": "92b49c5d",
   "metadata": {},
   "outputs": [
    {
     "data": {
      "text/html": [
       "<div>\n",
       "<style scoped>\n",
       "    .dataframe tbody tr th:only-of-type {\n",
       "        vertical-align: middle;\n",
       "    }\n",
       "\n",
       "    .dataframe tbody tr th {\n",
       "        vertical-align: top;\n",
       "    }\n",
       "\n",
       "    .dataframe thead th {\n",
       "        text-align: right;\n",
       "    }\n",
       "</style>\n",
       "<table border=\"1\" class=\"dataframe\">\n",
       "  <thead>\n",
       "    <tr style=\"text-align: right;\">\n",
       "      <th></th>\n",
       "      <th>0</th>\n",
       "      <th>1</th>\n",
       "      <th>4</th>\n",
       "      <th>5</th>\n",
       "    </tr>\n",
       "  </thead>\n",
       "  <tbody>\n",
       "    <tr>\n",
       "      <th>0</th>\n",
       "      <td>2353158</td>\n",
       "      <td>Zyonguen</td>\n",
       "      <td>12.36667</td>\n",
       "      <td>-0.45000</td>\n",
       "    </tr>\n",
       "    <tr>\n",
       "      <th>1</th>\n",
       "      <td>2353159</td>\n",
       "      <td>Zyiliwèlè</td>\n",
       "      <td>12.38333</td>\n",
       "      <td>-2.73333</td>\n",
       "    </tr>\n",
       "    <tr>\n",
       "      <th>2</th>\n",
       "      <td>2353160</td>\n",
       "      <td>Zyanko</td>\n",
       "      <td>12.78333</td>\n",
       "      <td>-0.41667</td>\n",
       "    </tr>\n",
       "    <tr>\n",
       "      <th>3</th>\n",
       "      <td>2353161</td>\n",
       "      <td>Zouta</td>\n",
       "      <td>13.14908</td>\n",
       "      <td>-1.28197</td>\n",
       "    </tr>\n",
       "    <tr>\n",
       "      <th>4</th>\n",
       "      <td>2353162</td>\n",
       "      <td>Zourtenga</td>\n",
       "      <td>12.95741</td>\n",
       "      <td>-1.28745</td>\n",
       "    </tr>\n",
       "  </tbody>\n",
       "</table>\n",
       "</div>"
      ],
      "text/plain": [
       "         0          1         4        5\n",
       "0  2353158   Zyonguen  12.36667 -0.45000\n",
       "1  2353159  Zyiliwèlè  12.38333 -2.73333\n",
       "2  2353160     Zyanko  12.78333 -0.41667\n",
       "3  2353161      Zouta  13.14908 -1.28197\n",
       "4  2353162  Zourtenga  12.95741 -1.28745"
      ]
     },
     "execution_count": 6,
     "metadata": {},
     "output_type": "execute_result"
    }
   ],
   "source": [
    "df.head()"
   ]
  },
  {
   "cell_type": "code",
   "execution_count": 7,
   "id": "c0ab6c4f",
   "metadata": {},
   "outputs": [],
   "source": [
    "df.columns=['ID', 'location_name', 'lat', 'long']"
   ]
  },
  {
   "cell_type": "code",
   "execution_count": 8,
   "id": "d8fdf957",
   "metadata": {},
   "outputs": [
    {
     "data": {
      "text/html": [
       "<div>\n",
       "<style scoped>\n",
       "    .dataframe tbody tr th:only-of-type {\n",
       "        vertical-align: middle;\n",
       "    }\n",
       "\n",
       "    .dataframe tbody tr th {\n",
       "        vertical-align: top;\n",
       "    }\n",
       "\n",
       "    .dataframe thead th {\n",
       "        text-align: right;\n",
       "    }\n",
       "</style>\n",
       "<table border=\"1\" class=\"dataframe\">\n",
       "  <thead>\n",
       "    <tr style=\"text-align: right;\">\n",
       "      <th></th>\n",
       "      <th>ID</th>\n",
       "      <th>location_name</th>\n",
       "      <th>lat</th>\n",
       "      <th>long</th>\n",
       "    </tr>\n",
       "  </thead>\n",
       "  <tbody>\n",
       "    <tr>\n",
       "      <th>0</th>\n",
       "      <td>2353158</td>\n",
       "      <td>Zyonguen</td>\n",
       "      <td>12.36667</td>\n",
       "      <td>-0.45000</td>\n",
       "    </tr>\n",
       "    <tr>\n",
       "      <th>1</th>\n",
       "      <td>2353159</td>\n",
       "      <td>Zyiliwèlè</td>\n",
       "      <td>12.38333</td>\n",
       "      <td>-2.73333</td>\n",
       "    </tr>\n",
       "    <tr>\n",
       "      <th>2</th>\n",
       "      <td>2353160</td>\n",
       "      <td>Zyanko</td>\n",
       "      <td>12.78333</td>\n",
       "      <td>-0.41667</td>\n",
       "    </tr>\n",
       "    <tr>\n",
       "      <th>3</th>\n",
       "      <td>2353161</td>\n",
       "      <td>Zouta</td>\n",
       "      <td>13.14908</td>\n",
       "      <td>-1.28197</td>\n",
       "    </tr>\n",
       "    <tr>\n",
       "      <th>4</th>\n",
       "      <td>2353162</td>\n",
       "      <td>Zourtenga</td>\n",
       "      <td>12.95741</td>\n",
       "      <td>-1.28745</td>\n",
       "    </tr>\n",
       "  </tbody>\n",
       "</table>\n",
       "</div>"
      ],
      "text/plain": [
       "        ID location_name       lat     long\n",
       "0  2353158      Zyonguen  12.36667 -0.45000\n",
       "1  2353159     Zyiliwèlè  12.38333 -2.73333\n",
       "2  2353160        Zyanko  12.78333 -0.41667\n",
       "3  2353161         Zouta  13.14908 -1.28197\n",
       "4  2353162     Zourtenga  12.95741 -1.28745"
      ]
     },
     "execution_count": 8,
     "metadata": {},
     "output_type": "execute_result"
    }
   ],
   "source": [
    "df.head()"
   ]
  },
  {
   "cell_type": "code",
   "execution_count": 9,
   "id": "bfe791c1",
   "metadata": {},
   "outputs": [],
   "source": [
    "df.to_csv('burkina_location.csv', index = False )"
   ]
  },
  {
   "cell_type": "code",
   "execution_count": 10,
   "id": "59cb5483",
   "metadata": {},
   "outputs": [],
   "source": [
    "gh=df[df['location_name'] == 'gounghin']"
   ]
  },
  {
   "cell_type": "code",
   "execution_count": 11,
   "id": "30a2dc07",
   "metadata": {},
   "outputs": [
    {
     "data": {
      "text/html": [
       "<div>\n",
       "<style scoped>\n",
       "    .dataframe tbody tr th:only-of-type {\n",
       "        vertical-align: middle;\n",
       "    }\n",
       "\n",
       "    .dataframe tbody tr th {\n",
       "        vertical-align: top;\n",
       "    }\n",
       "\n",
       "    .dataframe thead th {\n",
       "        text-align: right;\n",
       "    }\n",
       "</style>\n",
       "<table border=\"1\" class=\"dataframe\">\n",
       "  <thead>\n",
       "    <tr style=\"text-align: right;\">\n",
       "      <th></th>\n",
       "      <th>ID</th>\n",
       "      <th>location_name</th>\n",
       "      <th>lat</th>\n",
       "      <th>long</th>\n",
       "    </tr>\n",
       "  </thead>\n",
       "  <tbody>\n",
       "  </tbody>\n",
       "</table>\n",
       "</div>"
      ],
      "text/plain": [
       "Empty DataFrame\n",
       "Columns: [ID, location_name, lat, long]\n",
       "Index: []"
      ]
     },
     "execution_count": 11,
     "metadata": {},
     "output_type": "execute_result"
    }
   ],
   "source": [
    "gh"
   ]
  },
  {
   "cell_type": "code",
   "execution_count": 12,
   "id": "c62638ba",
   "metadata": {},
   "outputs": [],
   "source": [
    "gh_avec_G_majuscule=df[df['location_name'] == 'Gounghin']"
   ]
  },
  {
   "cell_type": "code",
   "execution_count": 13,
   "id": "4ac38db8",
   "metadata": {},
   "outputs": [
    {
     "data": {
      "text/plain": [
       "(5, 4)"
      ]
     },
     "execution_count": 13,
     "metadata": {},
     "output_type": "execute_result"
    }
   ],
   "source": [
    "gh_avec_G_majuscule.shape"
   ]
  },
  {
   "cell_type": "code",
   "execution_count": 14,
   "id": "82e38f49",
   "metadata": {},
   "outputs": [
    {
     "data": {
      "text/html": [
       "<div>\n",
       "<style scoped>\n",
       "    .dataframe tbody tr th:only-of-type {\n",
       "        vertical-align: middle;\n",
       "    }\n",
       "\n",
       "    .dataframe tbody tr th {\n",
       "        vertical-align: top;\n",
       "    }\n",
       "\n",
       "    .dataframe thead th {\n",
       "        text-align: right;\n",
       "    }\n",
       "</style>\n",
       "<table border=\"1\" class=\"dataframe\">\n",
       "  <thead>\n",
       "    <tr style=\"text-align: right;\">\n",
       "      <th></th>\n",
       "      <th>ID</th>\n",
       "      <th>location_name</th>\n",
       "      <th>lat</th>\n",
       "      <th>long</th>\n",
       "    </tr>\n",
       "  </thead>\n",
       "  <tbody>\n",
       "    <tr>\n",
       "      <th>147</th>\n",
       "      <td>2353306</td>\n",
       "      <td>Gounghin</td>\n",
       "      <td>12.06677</td>\n",
       "      <td>-1.42134</td>\n",
       "    </tr>\n",
       "    <tr>\n",
       "      <th>7256</th>\n",
       "      <td>2360473</td>\n",
       "      <td>Gounghin</td>\n",
       "      <td>12.62488</td>\n",
       "      <td>-1.36398</td>\n",
       "    </tr>\n",
       "    <tr>\n",
       "      <th>10227</th>\n",
       "      <td>2570204</td>\n",
       "      <td>Gounghin</td>\n",
       "      <td>12.31436</td>\n",
       "      <td>-1.37900</td>\n",
       "    </tr>\n",
       "    <tr>\n",
       "      <th>10688</th>\n",
       "      <td>10342749</td>\n",
       "      <td>Gounghin</td>\n",
       "      <td>12.06667</td>\n",
       "      <td>-0.15000</td>\n",
       "    </tr>\n",
       "    <tr>\n",
       "      <th>10808</th>\n",
       "      <td>11900680</td>\n",
       "      <td>Gounghin</td>\n",
       "      <td>12.35895</td>\n",
       "      <td>-1.54442</td>\n",
       "    </tr>\n",
       "  </tbody>\n",
       "</table>\n",
       "</div>"
      ],
      "text/plain": [
       "             ID location_name       lat     long\n",
       "147     2353306      Gounghin  12.06677 -1.42134\n",
       "7256    2360473      Gounghin  12.62488 -1.36398\n",
       "10227   2570204      Gounghin  12.31436 -1.37900\n",
       "10688  10342749      Gounghin  12.06667 -0.15000\n",
       "10808  11900680      Gounghin  12.35895 -1.54442"
      ]
     },
     "execution_count": 14,
     "metadata": {},
     "output_type": "execute_result"
    }
   ],
   "source": [
    "gh_avec_G_majuscule"
   ]
  },
  {
   "cell_type": "code",
   "execution_count": 15,
   "id": "028a8c08",
   "metadata": {},
   "outputs": [],
   "source": [
    "gh_avec_G_majuscule.to_csv('gounghin.csv', index = False )"
   ]
  },
  {
   "cell_type": "code",
   "execution_count": null,
   "id": "07eba4a3",
   "metadata": {},
   "outputs": [],
   "source": []
  }
 ],
 "metadata": {
  "kernelspec": {
   "display_name": "Python 3",
   "language": "python",
   "name": "python3"
  },
  "language_info": {
   "codemirror_mode": {
    "name": "ipython",
    "version": 3
   },
   "file_extension": ".py",
   "mimetype": "text/x-python",
   "name": "python",
   "nbconvert_exporter": "python",
   "pygments_lexer": "ipython3",
   "version": "3.8.8"
  }
 },
 "nbformat": 4,
 "nbformat_minor": 5
}

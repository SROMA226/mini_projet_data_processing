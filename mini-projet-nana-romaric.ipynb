{
 "cells": [
  {
   "cell_type": "code",
   "execution_count": null,
   "id": "555154b0",
   "metadata": {},
   "outputs": [],
   "source": [
    "#########################################################\n",
    "# MINI-PROJET\n",
    "# Student : NANA Sidwendluian Romaric\n",
    "# Classroom : Master FD&IA - UV-BF\n",
    "# Date : 07.11.2021\n",
    "#########################################################"
   ]
  },
  {
   "cell_type": "code",
   "execution_count": 1,
   "id": "4271c503",
   "metadata": {},
   "outputs": [],
   "source": [
    "import pandas as pd"
   ]
  },
  {
   "cell_type": "markdown",
   "id": "b3b72228",
   "metadata": {},
   "source": [
    "### Décompression du fichier Zip téléchargé"
   ]
  },
  {
   "cell_type": "code",
   "execution_count": 2,
   "id": "4ef46405",
   "metadata": {
    "scrolled": true
   },
   "outputs": [
    {
     "name": "stdout",
     "output_type": "stream",
     "text": [
      "File Name                                             Modified             Size\n",
      "readme.txt                                     2021-10-28 03:19:48         8716\n",
      "BF.txt                                         2021-10-28 03:19:48      1182036\n",
      "None\n",
      "Extracting all files...\n",
      "Done!\n"
     ]
    }
   ],
   "source": [
    "## extracting zip file\n",
    "import zipfile\n",
    "\n",
    "def main():\n",
    "\n",
    "    # assigning filename to a variable\n",
    "    file_name = 'BF.zip'\n",
    "\n",
    "    # opening Zip using 'with' keyword in read mode\n",
    "    with zipfile.ZipFile(file_name, 'r') as file:\n",
    "        # printing all the information of archive file contents using 'printdir' method\n",
    "        print(file.printdir())\n",
    "\n",
    "        # extracting the files using 'extracall' method\n",
    "        print('Extracting all files...')\n",
    "        file.extractall()\n",
    "        print('Done!') # check your directory of zip file to see the extracted files\n",
    "\n",
    "if __name__ == '__main__': main()"
   ]
  },
  {
   "cell_type": "markdown",
   "id": "8962a7af",
   "metadata": {},
   "source": [
    "### Importation des données du Burkina"
   ]
  },
  {
   "cell_type": "code",
   "execution_count": 17,
   "id": "b8d5e77d",
   "metadata": {},
   "outputs": [],
   "source": [
    "df = pd.read_csv('BF.txt', sep='\\t', header=None)"
   ]
  },
  {
   "cell_type": "code",
   "execution_count": 18,
   "id": "c4daff76",
   "metadata": {},
   "outputs": [
    {
     "data": {
      "text/plain": [
       "(11297, 19)"
      ]
     },
     "execution_count": 18,
     "metadata": {},
     "output_type": "execute_result"
    }
   ],
   "source": [
    "df.shape"
   ]
  },
  {
   "cell_type": "code",
   "execution_count": 19,
   "id": "fa09937c",
   "metadata": {},
   "outputs": [
    {
     "data": {
      "text/html": [
       "<div>\n",
       "<style scoped>\n",
       "    .dataframe tbody tr th:only-of-type {\n",
       "        vertical-align: middle;\n",
       "    }\n",
       "\n",
       "    .dataframe tbody tr th {\n",
       "        vertical-align: top;\n",
       "    }\n",
       "\n",
       "    .dataframe thead th {\n",
       "        text-align: right;\n",
       "    }\n",
       "</style>\n",
       "<table border=\"1\" class=\"dataframe\">\n",
       "  <thead>\n",
       "    <tr style=\"text-align: right;\">\n",
       "      <th></th>\n",
       "      <th>0</th>\n",
       "      <th>1</th>\n",
       "      <th>2</th>\n",
       "      <th>3</th>\n",
       "      <th>4</th>\n",
       "      <th>5</th>\n",
       "      <th>6</th>\n",
       "      <th>7</th>\n",
       "      <th>8</th>\n",
       "      <th>9</th>\n",
       "      <th>10</th>\n",
       "      <th>11</th>\n",
       "      <th>12</th>\n",
       "      <th>13</th>\n",
       "      <th>14</th>\n",
       "      <th>15</th>\n",
       "      <th>16</th>\n",
       "      <th>17</th>\n",
       "      <th>18</th>\n",
       "    </tr>\n",
       "  </thead>\n",
       "  <tbody>\n",
       "    <tr>\n",
       "      <th>0</th>\n",
       "      <td>2353158</td>\n",
       "      <td>Zyonguen</td>\n",
       "      <td>Zyonguen</td>\n",
       "      <td>NaN</td>\n",
       "      <td>12.36667</td>\n",
       "      <td>-0.45000</td>\n",
       "      <td>P</td>\n",
       "      <td>PPL</td>\n",
       "      <td>BF</td>\n",
       "      <td>NaN</td>\n",
       "      <td>04</td>\n",
       "      <td>NaN</td>\n",
       "      <td>NaN</td>\n",
       "      <td>NaN</td>\n",
       "      <td>0</td>\n",
       "      <td>NaN</td>\n",
       "      <td>293</td>\n",
       "      <td>Africa/Ouagadougou</td>\n",
       "      <td>2012-06-05</td>\n",
       "    </tr>\n",
       "    <tr>\n",
       "      <th>1</th>\n",
       "      <td>2353159</td>\n",
       "      <td>Zyiliwèlè</td>\n",
       "      <td>Zyiliwele</td>\n",
       "      <td>NaN</td>\n",
       "      <td>12.38333</td>\n",
       "      <td>-2.73333</td>\n",
       "      <td>P</td>\n",
       "      <td>PPL</td>\n",
       "      <td>BF</td>\n",
       "      <td>NaN</td>\n",
       "      <td>06</td>\n",
       "      <td>NaN</td>\n",
       "      <td>NaN</td>\n",
       "      <td>NaN</td>\n",
       "      <td>0</td>\n",
       "      <td>NaN</td>\n",
       "      <td>277</td>\n",
       "      <td>Africa/Ouagadougou</td>\n",
       "      <td>2012-06-05</td>\n",
       "    </tr>\n",
       "    <tr>\n",
       "      <th>2</th>\n",
       "      <td>2353160</td>\n",
       "      <td>Zyanko</td>\n",
       "      <td>Zyanko</td>\n",
       "      <td>NaN</td>\n",
       "      <td>12.78333</td>\n",
       "      <td>-0.41667</td>\n",
       "      <td>P</td>\n",
       "      <td>PPL</td>\n",
       "      <td>BF</td>\n",
       "      <td>NaN</td>\n",
       "      <td>05</td>\n",
       "      <td>NaN</td>\n",
       "      <td>NaN</td>\n",
       "      <td>NaN</td>\n",
       "      <td>0</td>\n",
       "      <td>NaN</td>\n",
       "      <td>301</td>\n",
       "      <td>Africa/Ouagadougou</td>\n",
       "      <td>2012-06-05</td>\n",
       "    </tr>\n",
       "    <tr>\n",
       "      <th>3</th>\n",
       "      <td>2353161</td>\n",
       "      <td>Zouta</td>\n",
       "      <td>Zouta</td>\n",
       "      <td>NaN</td>\n",
       "      <td>13.14908</td>\n",
       "      <td>-1.28197</td>\n",
       "      <td>P</td>\n",
       "      <td>PPL</td>\n",
       "      <td>BF</td>\n",
       "      <td>NaN</td>\n",
       "      <td>05</td>\n",
       "      <td>70.0</td>\n",
       "      <td>NaN</td>\n",
       "      <td>NaN</td>\n",
       "      <td>0</td>\n",
       "      <td>NaN</td>\n",
       "      <td>306</td>\n",
       "      <td>Africa/Ouagadougou</td>\n",
       "      <td>2010-07-31</td>\n",
       "    </tr>\n",
       "    <tr>\n",
       "      <th>4</th>\n",
       "      <td>2353162</td>\n",
       "      <td>Zourtenga</td>\n",
       "      <td>Zourtenga</td>\n",
       "      <td>NaN</td>\n",
       "      <td>12.95741</td>\n",
       "      <td>-1.28745</td>\n",
       "      <td>P</td>\n",
       "      <td>PPL</td>\n",
       "      <td>BF</td>\n",
       "      <td>NaN</td>\n",
       "      <td>05</td>\n",
       "      <td>NaN</td>\n",
       "      <td>NaN</td>\n",
       "      <td>NaN</td>\n",
       "      <td>0</td>\n",
       "      <td>NaN</td>\n",
       "      <td>290</td>\n",
       "      <td>Africa/Ouagadougou</td>\n",
       "      <td>2018-09-05</td>\n",
       "    </tr>\n",
       "  </tbody>\n",
       "</table>\n",
       "</div>"
      ],
      "text/plain": [
       "        0          1          2    3         4        5  6    7   8    9   10  \\\n",
       "0  2353158   Zyonguen   Zyonguen  NaN  12.36667 -0.45000  P  PPL  BF  NaN  04   \n",
       "1  2353159  Zyiliwèlè  Zyiliwele  NaN  12.38333 -2.73333  P  PPL  BF  NaN  06   \n",
       "2  2353160     Zyanko     Zyanko  NaN  12.78333 -0.41667  P  PPL  BF  NaN  05   \n",
       "3  2353161      Zouta      Zouta  NaN  13.14908 -1.28197  P  PPL  BF  NaN  05   \n",
       "4  2353162  Zourtenga  Zourtenga  NaN  12.95741 -1.28745  P  PPL  BF  NaN  05   \n",
       "\n",
       "     11  12  13  14  15   16                  17          18  \n",
       "0   NaN NaN NaN   0 NaN  293  Africa/Ouagadougou  2012-06-05  \n",
       "1   NaN NaN NaN   0 NaN  277  Africa/Ouagadougou  2012-06-05  \n",
       "2   NaN NaN NaN   0 NaN  301  Africa/Ouagadougou  2012-06-05  \n",
       "3  70.0 NaN NaN   0 NaN  306  Africa/Ouagadougou  2010-07-31  \n",
       "4   NaN NaN NaN   0 NaN  290  Africa/Ouagadougou  2018-09-05  "
      ]
     },
     "execution_count": 19,
     "metadata": {},
     "output_type": "execute_result"
    }
   ],
   "source": [
    "df.head()"
   ]
  },
  {
   "cell_type": "code",
   "execution_count": 20,
   "id": "af523112",
   "metadata": {},
   "outputs": [],
   "source": [
    "df=df[[0,1,4,5]]"
   ]
  },
  {
   "cell_type": "code",
   "execution_count": 21,
   "id": "92b49c5d",
   "metadata": {},
   "outputs": [
    {
     "data": {
      "text/html": [
       "<div>\n",
       "<style scoped>\n",
       "    .dataframe tbody tr th:only-of-type {\n",
       "        vertical-align: middle;\n",
       "    }\n",
       "\n",
       "    .dataframe tbody tr th {\n",
       "        vertical-align: top;\n",
       "    }\n",
       "\n",
       "    .dataframe thead th {\n",
       "        text-align: right;\n",
       "    }\n",
       "</style>\n",
       "<table border=\"1\" class=\"dataframe\">\n",
       "  <thead>\n",
       "    <tr style=\"text-align: right;\">\n",
       "      <th></th>\n",
       "      <th>0</th>\n",
       "      <th>1</th>\n",
       "      <th>4</th>\n",
       "      <th>5</th>\n",
       "    </tr>\n",
       "  </thead>\n",
       "  <tbody>\n",
       "    <tr>\n",
       "      <th>0</th>\n",
       "      <td>2353158</td>\n",
       "      <td>Zyonguen</td>\n",
       "      <td>12.36667</td>\n",
       "      <td>-0.45000</td>\n",
       "    </tr>\n",
       "    <tr>\n",
       "      <th>1</th>\n",
       "      <td>2353159</td>\n",
       "      <td>Zyiliwèlè</td>\n",
       "      <td>12.38333</td>\n",
       "      <td>-2.73333</td>\n",
       "    </tr>\n",
       "    <tr>\n",
       "      <th>2</th>\n",
       "      <td>2353160</td>\n",
       "      <td>Zyanko</td>\n",
       "      <td>12.78333</td>\n",
       "      <td>-0.41667</td>\n",
       "    </tr>\n",
       "    <tr>\n",
       "      <th>3</th>\n",
       "      <td>2353161</td>\n",
       "      <td>Zouta</td>\n",
       "      <td>13.14908</td>\n",
       "      <td>-1.28197</td>\n",
       "    </tr>\n",
       "    <tr>\n",
       "      <th>4</th>\n",
       "      <td>2353162</td>\n",
       "      <td>Zourtenga</td>\n",
       "      <td>12.95741</td>\n",
       "      <td>-1.28745</td>\n",
       "    </tr>\n",
       "  </tbody>\n",
       "</table>\n",
       "</div>"
      ],
      "text/plain": [
       "         0          1         4        5\n",
       "0  2353158   Zyonguen  12.36667 -0.45000\n",
       "1  2353159  Zyiliwèlè  12.38333 -2.73333\n",
       "2  2353160     Zyanko  12.78333 -0.41667\n",
       "3  2353161      Zouta  13.14908 -1.28197\n",
       "4  2353162  Zourtenga  12.95741 -1.28745"
      ]
     },
     "execution_count": 21,
     "metadata": {},
     "output_type": "execute_result"
    }
   ],
   "source": [
    "df.head()"
   ]
  },
  {
   "cell_type": "code",
   "execution_count": 22,
   "id": "c0ab6c4f",
   "metadata": {},
   "outputs": [],
   "source": [
    "df.columns=['ID', 'location_name', 'lat', 'long']"
   ]
  },
  {
   "cell_type": "code",
   "execution_count": 23,
   "id": "d8fdf957",
   "metadata": {},
   "outputs": [
    {
     "data": {
      "text/html": [
       "<div>\n",
       "<style scoped>\n",
       "    .dataframe tbody tr th:only-of-type {\n",
       "        vertical-align: middle;\n",
       "    }\n",
       "\n",
       "    .dataframe tbody tr th {\n",
       "        vertical-align: top;\n",
       "    }\n",
       "\n",
       "    .dataframe thead th {\n",
       "        text-align: right;\n",
       "    }\n",
       "</style>\n",
       "<table border=\"1\" class=\"dataframe\">\n",
       "  <thead>\n",
       "    <tr style=\"text-align: right;\">\n",
       "      <th></th>\n",
       "      <th>ID</th>\n",
       "      <th>location_name</th>\n",
       "      <th>lat</th>\n",
       "      <th>long</th>\n",
       "    </tr>\n",
       "  </thead>\n",
       "  <tbody>\n",
       "    <tr>\n",
       "      <th>0</th>\n",
       "      <td>2353158</td>\n",
       "      <td>Zyonguen</td>\n",
       "      <td>12.36667</td>\n",
       "      <td>-0.45000</td>\n",
       "    </tr>\n",
       "    <tr>\n",
       "      <th>1</th>\n",
       "      <td>2353159</td>\n",
       "      <td>Zyiliwèlè</td>\n",
       "      <td>12.38333</td>\n",
       "      <td>-2.73333</td>\n",
       "    </tr>\n",
       "    <tr>\n",
       "      <th>2</th>\n",
       "      <td>2353160</td>\n",
       "      <td>Zyanko</td>\n",
       "      <td>12.78333</td>\n",
       "      <td>-0.41667</td>\n",
       "    </tr>\n",
       "    <tr>\n",
       "      <th>3</th>\n",
       "      <td>2353161</td>\n",
       "      <td>Zouta</td>\n",
       "      <td>13.14908</td>\n",
       "      <td>-1.28197</td>\n",
       "    </tr>\n",
       "    <tr>\n",
       "      <th>4</th>\n",
       "      <td>2353162</td>\n",
       "      <td>Zourtenga</td>\n",
       "      <td>12.95741</td>\n",
       "      <td>-1.28745</td>\n",
       "    </tr>\n",
       "  </tbody>\n",
       "</table>\n",
       "</div>"
      ],
      "text/plain": [
       "        ID location_name       lat     long\n",
       "0  2353158      Zyonguen  12.36667 -0.45000\n",
       "1  2353159     Zyiliwèlè  12.38333 -2.73333\n",
       "2  2353160        Zyanko  12.78333 -0.41667\n",
       "3  2353161         Zouta  13.14908 -1.28197\n",
       "4  2353162     Zourtenga  12.95741 -1.28745"
      ]
     },
     "execution_count": 23,
     "metadata": {},
     "output_type": "execute_result"
    }
   ],
   "source": [
    "df.head()"
   ]
  },
  {
   "cell_type": "code",
   "execution_count": 24,
   "id": "bfe791c1",
   "metadata": {},
   "outputs": [],
   "source": [
    "df.to_csv('burkina_location.csv', index = False )"
   ]
  },
  {
   "cell_type": "markdown",
   "id": "424a094b",
   "metadata": {},
   "source": [
    "### 4. Opérations sur le fichier CSV \"burkina_location.csv\""
   ]
  },
  {
   "cell_type": "code",
   "execution_count": 26,
   "id": "cbaa31a8",
   "metadata": {},
   "outputs": [
    {
     "data": {
      "text/html": [
       "<div>\n",
       "<style scoped>\n",
       "    .dataframe tbody tr th:only-of-type {\n",
       "        vertical-align: middle;\n",
       "    }\n",
       "\n",
       "    .dataframe tbody tr th {\n",
       "        vertical-align: top;\n",
       "    }\n",
       "\n",
       "    .dataframe thead th {\n",
       "        text-align: right;\n",
       "    }\n",
       "</style>\n",
       "<table border=\"1\" class=\"dataframe\">\n",
       "  <thead>\n",
       "    <tr style=\"text-align: right;\">\n",
       "      <th></th>\n",
       "      <th>ID</th>\n",
       "      <th>location_name</th>\n",
       "      <th>lat</th>\n",
       "      <th>long</th>\n",
       "    </tr>\n",
       "  </thead>\n",
       "  <tbody>\n",
       "    <tr>\n",
       "      <th>0</th>\n",
       "      <td>2353158</td>\n",
       "      <td>Zyonguen</td>\n",
       "      <td>12.36667</td>\n",
       "      <td>-0.45000</td>\n",
       "    </tr>\n",
       "    <tr>\n",
       "      <th>1</th>\n",
       "      <td>2353159</td>\n",
       "      <td>Zyiliwèlè</td>\n",
       "      <td>12.38333</td>\n",
       "      <td>-2.73333</td>\n",
       "    </tr>\n",
       "    <tr>\n",
       "      <th>2</th>\n",
       "      <td>2353160</td>\n",
       "      <td>Zyanko</td>\n",
       "      <td>12.78333</td>\n",
       "      <td>-0.41667</td>\n",
       "    </tr>\n",
       "    <tr>\n",
       "      <th>3</th>\n",
       "      <td>2353161</td>\n",
       "      <td>Zouta</td>\n",
       "      <td>13.14908</td>\n",
       "      <td>-1.28197</td>\n",
       "    </tr>\n",
       "    <tr>\n",
       "      <th>4</th>\n",
       "      <td>2353162</td>\n",
       "      <td>Zourtenga</td>\n",
       "      <td>12.95741</td>\n",
       "      <td>-1.28745</td>\n",
       "    </tr>\n",
       "  </tbody>\n",
       "</table>\n",
       "</div>"
      ],
      "text/plain": [
       "        ID location_name       lat     long\n",
       "0  2353158      Zyonguen  12.36667 -0.45000\n",
       "1  2353159     Zyiliwèlè  12.38333 -2.73333\n",
       "2  2353160        Zyanko  12.78333 -0.41667\n",
       "3  2353161         Zouta  13.14908 -1.28197\n",
       "4  2353162     Zourtenga  12.95741 -1.28745"
      ]
     },
     "execution_count": 26,
     "metadata": {},
     "output_type": "execute_result"
    }
   ],
   "source": [
    "burkina_location = pd.read_csv('burkina_location.csv')\n",
    "burkina_location.head()"
   ]
  },
  {
   "cell_type": "code",
   "execution_count": 27,
   "id": "a6e79170",
   "metadata": {},
   "outputs": [
    {
     "name": "stdout",
     "output_type": "stream",
     "text": [
      "<class 'pandas.core.frame.DataFrame'>\n",
      "RangeIndex: 11297 entries, 0 to 11296\n",
      "Data columns (total 4 columns):\n",
      " #   Column         Non-Null Count  Dtype  \n",
      "---  ------         --------------  -----  \n",
      " 0   ID             11297 non-null  int64  \n",
      " 1   location_name  11297 non-null  object \n",
      " 2   lat            11297 non-null  float64\n",
      " 3   long           11297 non-null  float64\n",
      "dtypes: float64(2), int64(1), object(1)\n",
      "memory usage: 353.2+ KB\n"
     ]
    }
   ],
   "source": [
    "burkina_location.info()"
   ]
  },
  {
   "cell_type": "markdown",
   "id": "4790e0a3",
   "metadata": {},
   "source": [
    "### 4.1 Extraction des données contenant le nom \"gounghin\""
   ]
  },
  {
   "cell_type": "code",
   "execution_count": 31,
   "id": "59cb5483",
   "metadata": {},
   "outputs": [
    {
     "data": {
      "text/html": [
       "<div>\n",
       "<style scoped>\n",
       "    .dataframe tbody tr th:only-of-type {\n",
       "        vertical-align: middle;\n",
       "    }\n",
       "\n",
       "    .dataframe tbody tr th {\n",
       "        vertical-align: top;\n",
       "    }\n",
       "\n",
       "    .dataframe thead th {\n",
       "        text-align: right;\n",
       "    }\n",
       "</style>\n",
       "<table border=\"1\" class=\"dataframe\">\n",
       "  <thead>\n",
       "    <tr style=\"text-align: right;\">\n",
       "      <th></th>\n",
       "      <th>ID</th>\n",
       "      <th>location_name</th>\n",
       "      <th>lat</th>\n",
       "      <th>long</th>\n",
       "    </tr>\n",
       "  </thead>\n",
       "  <tbody>\n",
       "  </tbody>\n",
       "</table>\n",
       "</div>"
      ],
      "text/plain": [
       "Empty DataFrame\n",
       "Columns: [ID, location_name, lat, long]\n",
       "Index: []"
      ]
     },
     "execution_count": 31,
     "metadata": {},
     "output_type": "execute_result"
    }
   ],
   "source": [
    "burkina_location[burkina_location['location_name'].str.contains('gounghin')]"
   ]
  },
  {
   "cell_type": "code",
   "execution_count": 33,
   "id": "5c3a41d3",
   "metadata": {},
   "outputs": [
    {
     "data": {
      "text/html": [
       "<div>\n",
       "<style scoped>\n",
       "    .dataframe tbody tr th:only-of-type {\n",
       "        vertical-align: middle;\n",
       "    }\n",
       "\n",
       "    .dataframe tbody tr th {\n",
       "        vertical-align: top;\n",
       "    }\n",
       "\n",
       "    .dataframe thead th {\n",
       "        text-align: right;\n",
       "    }\n",
       "</style>\n",
       "<table border=\"1\" class=\"dataframe\">\n",
       "  <thead>\n",
       "    <tr style=\"text-align: right;\">\n",
       "      <th></th>\n",
       "      <th>ID</th>\n",
       "      <th>location_name</th>\n",
       "      <th>lat</th>\n",
       "      <th>long</th>\n",
       "    </tr>\n",
       "  </thead>\n",
       "  <tbody>\n",
       "    <tr>\n",
       "      <th>147</th>\n",
       "      <td>2353306</td>\n",
       "      <td>Gounghin</td>\n",
       "      <td>12.06677</td>\n",
       "      <td>-1.42134</td>\n",
       "    </tr>\n",
       "    <tr>\n",
       "      <th>7256</th>\n",
       "      <td>2360473</td>\n",
       "      <td>Gounghin</td>\n",
       "      <td>12.62488</td>\n",
       "      <td>-1.36398</td>\n",
       "    </tr>\n",
       "    <tr>\n",
       "      <th>10227</th>\n",
       "      <td>2570204</td>\n",
       "      <td>Gounghin</td>\n",
       "      <td>12.31436</td>\n",
       "      <td>-1.37900</td>\n",
       "    </tr>\n",
       "    <tr>\n",
       "      <th>10688</th>\n",
       "      <td>10342749</td>\n",
       "      <td>Gounghin</td>\n",
       "      <td>12.06667</td>\n",
       "      <td>-0.15000</td>\n",
       "    </tr>\n",
       "    <tr>\n",
       "      <th>10701</th>\n",
       "      <td>10629032</td>\n",
       "      <td>BICIAB // Gounghin</td>\n",
       "      <td>12.35921</td>\n",
       "      <td>-1.54273</td>\n",
       "    </tr>\n",
       "    <tr>\n",
       "      <th>10760</th>\n",
       "      <td>11257296</td>\n",
       "      <td>Gounghin Department</td>\n",
       "      <td>12.06671</td>\n",
       "      <td>-0.15484</td>\n",
       "    </tr>\n",
       "    <tr>\n",
       "      <th>10787</th>\n",
       "      <td>11900526</td>\n",
       "      <td>Gounghin Nord</td>\n",
       "      <td>12.36120</td>\n",
       "      <td>-1.55055</td>\n",
       "    </tr>\n",
       "    <tr>\n",
       "      <th>10788</th>\n",
       "      <td>11900528</td>\n",
       "      <td>Zone Industrielle de Gounghin</td>\n",
       "      <td>12.36631</td>\n",
       "      <td>-1.54137</td>\n",
       "    </tr>\n",
       "    <tr>\n",
       "      <th>10794</th>\n",
       "      <td>11900619</td>\n",
       "      <td>Gounghin Sud</td>\n",
       "      <td>12.35298</td>\n",
       "      <td>-1.54342</td>\n",
       "    </tr>\n",
       "    <tr>\n",
       "      <th>10808</th>\n",
       "      <td>11900680</td>\n",
       "      <td>Gounghin</td>\n",
       "      <td>12.35895</td>\n",
       "      <td>-1.54442</td>\n",
       "    </tr>\n",
       "  </tbody>\n",
       "</table>\n",
       "</div>"
      ],
      "text/plain": [
       "             ID                  location_name       lat     long\n",
       "147     2353306                       Gounghin  12.06677 -1.42134\n",
       "7256    2360473                       Gounghin  12.62488 -1.36398\n",
       "10227   2570204                       Gounghin  12.31436 -1.37900\n",
       "10688  10342749                       Gounghin  12.06667 -0.15000\n",
       "10701  10629032             BICIAB // Gounghin  12.35921 -1.54273\n",
       "10760  11257296            Gounghin Department  12.06671 -0.15484\n",
       "10787  11900526                  Gounghin Nord  12.36120 -1.55055\n",
       "10788  11900528  Zone Industrielle de Gounghin  12.36631 -1.54137\n",
       "10794  11900619                   Gounghin Sud  12.35298 -1.54342\n",
       "10808  11900680                       Gounghin  12.35895 -1.54442"
      ]
     },
     "execution_count": 33,
     "metadata": {},
     "output_type": "execute_result"
    }
   ],
   "source": [
    "burkina_location[burkina_location['location_name'].str.contains('Gounghin')]"
   ]
  },
  {
   "cell_type": "code",
   "execution_count": 34,
   "id": "30a2dc07",
   "metadata": {},
   "outputs": [],
   "source": [
    "gounghin=burkina_location[burkina_location['location_name'].str.contains('Gounghin')]"
   ]
  },
  {
   "cell_type": "code",
   "execution_count": 35,
   "id": "c62638ba",
   "metadata": {},
   "outputs": [],
   "source": [
    "gounghin.to_csv('gounghin.csv', index = False )"
   ]
  },
  {
   "cell_type": "markdown",
   "id": "8328a0a9",
   "metadata": {},
   "source": [
    "### 4.2 Extraction sous-partie des données de \"burkina_location\" ayant des noms de lieux dont les premières lettres sont comprises entre 'A'et 'P'"
   ]
  },
  {
   "cell_type": "code",
   "execution_count": 43,
   "id": "8ee485c2",
   "metadata": {},
   "outputs": [],
   "source": [
    "location_name_A_to_P = burkina_location[burkina_location['location_name'].str.get(0).between('A','P')].sort_values(by='location_name', ascending=True)"
   ]
  },
  {
   "cell_type": "code",
   "execution_count": 44,
   "id": "c00768fa",
   "metadata": {},
   "outputs": [
    {
     "data": {
      "text/html": [
       "<div>\n",
       "<style scoped>\n",
       "    .dataframe tbody tr th:only-of-type {\n",
       "        vertical-align: middle;\n",
       "    }\n",
       "\n",
       "    .dataframe tbody tr th {\n",
       "        vertical-align: top;\n",
       "    }\n",
       "\n",
       "    .dataframe thead th {\n",
       "        text-align: right;\n",
       "    }\n",
       "</style>\n",
       "<table border=\"1\" class=\"dataframe\">\n",
       "  <thead>\n",
       "    <tr style=\"text-align: right;\">\n",
       "      <th></th>\n",
       "      <th>ID</th>\n",
       "      <th>location_name</th>\n",
       "      <th>lat</th>\n",
       "      <th>long</th>\n",
       "    </tr>\n",
       "  </thead>\n",
       "  <tbody>\n",
       "    <tr>\n",
       "      <th>10590</th>\n",
       "      <td>6913771</td>\n",
       "      <td>Abanda</td>\n",
       "      <td>15.06808</td>\n",
       "      <td>-0.59805</td>\n",
       "    </tr>\n",
       "    <tr>\n",
       "      <th>10013</th>\n",
       "      <td>2363251</td>\n",
       "      <td>Abanga</td>\n",
       "      <td>13.32429</td>\n",
       "      <td>0.31151</td>\n",
       "    </tr>\n",
       "    <tr>\n",
       "      <th>11035</th>\n",
       "      <td>11980339</td>\n",
       "      <td>Abassi</td>\n",
       "      <td>12.27728</td>\n",
       "      <td>-1.13662</td>\n",
       "    </tr>\n",
       "    <tr>\n",
       "      <th>10551</th>\n",
       "      <td>6874881</td>\n",
       "      <td>Abaye</td>\n",
       "      <td>13.44080</td>\n",
       "      <td>-3.90190</td>\n",
       "    </tr>\n",
       "    <tr>\n",
       "      <th>10011</th>\n",
       "      <td>2363249</td>\n",
       "      <td>Abra</td>\n",
       "      <td>13.09140</td>\n",
       "      <td>-1.34752</td>\n",
       "    </tr>\n",
       "    <tr>\n",
       "      <th>...</th>\n",
       "      <td>...</td>\n",
       "      <td>...</td>\n",
       "      <td>...</td>\n",
       "      <td>...</td>\n",
       "    </tr>\n",
       "    <tr>\n",
       "      <th>10078</th>\n",
       "      <td>2570015</td>\n",
       "      <td>Pézinga</td>\n",
       "      <td>12.05298</td>\n",
       "      <td>-1.47002</td>\n",
       "    </tr>\n",
       "    <tr>\n",
       "      <th>3468</th>\n",
       "      <td>2356655</td>\n",
       "      <td>Pê</td>\n",
       "      <td>11.30000</td>\n",
       "      <td>-3.53333</td>\n",
       "    </tr>\n",
       "    <tr>\n",
       "      <th>3268</th>\n",
       "      <td>2356453</td>\n",
       "      <td>Pô</td>\n",
       "      <td>12.30000</td>\n",
       "      <td>-2.61667</td>\n",
       "    </tr>\n",
       "    <tr>\n",
       "      <th>3269</th>\n",
       "      <td>2356454</td>\n",
       "      <td>Pô</td>\n",
       "      <td>11.16972</td>\n",
       "      <td>-1.14500</td>\n",
       "    </tr>\n",
       "    <tr>\n",
       "      <th>10360</th>\n",
       "      <td>6296406</td>\n",
       "      <td>Pô Airport</td>\n",
       "      <td>11.17854</td>\n",
       "      <td>-1.14498</td>\n",
       "    </tr>\n",
       "  </tbody>\n",
       "</table>\n",
       "<p>7825 rows × 4 columns</p>\n",
       "</div>"
      ],
      "text/plain": [
       "             ID location_name       lat     long\n",
       "10590   6913771        Abanda  15.06808 -0.59805\n",
       "10013   2363251        Abanga  13.32429  0.31151\n",
       "11035  11980339        Abassi  12.27728 -1.13662\n",
       "10551   6874881         Abaye  13.44080 -3.90190\n",
       "10011   2363249          Abra  13.09140 -1.34752\n",
       "...         ...           ...       ...      ...\n",
       "10078   2570015       Pézinga  12.05298 -1.47002\n",
       "3468    2356655            Pê  11.30000 -3.53333\n",
       "3268    2356453            Pô  12.30000 -2.61667\n",
       "3269    2356454            Pô  11.16972 -1.14500\n",
       "10360   6296406    Pô Airport  11.17854 -1.14498\n",
       "\n",
       "[7825 rows x 4 columns]"
      ]
     },
     "execution_count": 44,
     "metadata": {},
     "output_type": "execute_result"
    }
   ],
   "source": [
    "location_name_A_to_P"
   ]
  },
  {
   "cell_type": "markdown",
   "id": "9cee58e1",
   "metadata": {},
   "source": [
    "### 4.3 Identification de la latitude, la longitude minimale et les noms de lieux correspondants dans le fichier burkina_location.csv."
   ]
  },
  {
   "cell_type": "code",
   "execution_count": 49,
   "id": "028a8c08",
   "metadata": {},
   "outputs": [
    {
     "data": {
      "text/plain": [
       "9.4295"
      ]
     },
     "execution_count": 49,
     "metadata": {},
     "output_type": "execute_result"
    }
   ],
   "source": [
    "burkina_location['lat'].min()"
   ]
  },
  {
   "cell_type": "code",
   "execution_count": 50,
   "id": "55a61aa7",
   "metadata": {},
   "outputs": [
    {
     "data": {
      "text/html": [
       "<div>\n",
       "<style scoped>\n",
       "    .dataframe tbody tr th:only-of-type {\n",
       "        vertical-align: middle;\n",
       "    }\n",
       "\n",
       "    .dataframe tbody tr th {\n",
       "        vertical-align: top;\n",
       "    }\n",
       "\n",
       "    .dataframe thead th {\n",
       "        text-align: right;\n",
       "    }\n",
       "</style>\n",
       "<table border=\"1\" class=\"dataframe\">\n",
       "  <thead>\n",
       "    <tr style=\"text-align: right;\">\n",
       "      <th></th>\n",
       "      <th>ID</th>\n",
       "      <th>location_name</th>\n",
       "      <th>lat</th>\n",
       "      <th>long</th>\n",
       "    </tr>\n",
       "  </thead>\n",
       "  <tbody>\n",
       "    <tr>\n",
       "      <th>11149</th>\n",
       "      <td>12224995</td>\n",
       "      <td>Fadio-Mèpèhn</td>\n",
       "      <td>9.4295</td>\n",
       "      <td>-2.7775</td>\n",
       "    </tr>\n",
       "  </tbody>\n",
       "</table>\n",
       "</div>"
      ],
      "text/plain": [
       "             ID location_name     lat    long\n",
       "11149  12224995  Fadio-Mèpèhn  9.4295 -2.7775"
      ]
     },
     "execution_count": 50,
     "metadata": {},
     "output_type": "execute_result"
    }
   ],
   "source": [
    "burkina_location.sort_values(by='lat',ascending=True).head(1)"
   ]
  },
  {
   "cell_type": "code",
   "execution_count": 51,
   "id": "07eba4a3",
   "metadata": {},
   "outputs": [
    {
     "data": {
      "text/plain": [
       "-5.48333"
      ]
     },
     "execution_count": 51,
     "metadata": {},
     "output_type": "execute_result"
    }
   ],
   "source": [
    "burkina_location['long'].min()"
   ]
  },
  {
   "cell_type": "code",
   "execution_count": 55,
   "id": "084d07f3",
   "metadata": {},
   "outputs": [
    {
     "data": {
      "text/html": [
       "<div>\n",
       "<style scoped>\n",
       "    .dataframe tbody tr th:only-of-type {\n",
       "        vertical-align: middle;\n",
       "    }\n",
       "\n",
       "    .dataframe tbody tr th {\n",
       "        vertical-align: top;\n",
       "    }\n",
       "\n",
       "    .dataframe thead th {\n",
       "        text-align: right;\n",
       "    }\n",
       "</style>\n",
       "<table border=\"1\" class=\"dataframe\">\n",
       "  <thead>\n",
       "    <tr style=\"text-align: right;\">\n",
       "      <th></th>\n",
       "      <th>ID</th>\n",
       "      <th>location_name</th>\n",
       "      <th>lat</th>\n",
       "      <th>long</th>\n",
       "    </tr>\n",
       "  </thead>\n",
       "  <tbody>\n",
       "    <tr>\n",
       "      <th>1255</th>\n",
       "      <td>2354426</td>\n",
       "      <td>Tinobolé</td>\n",
       "      <td>10.75</td>\n",
       "      <td>-5.48333</td>\n",
       "    </tr>\n",
       "  </tbody>\n",
       "</table>\n",
       "</div>"
      ],
      "text/plain": [
       "           ID location_name    lat     long\n",
       "1255  2354426      Tinobolé  10.75 -5.48333"
      ]
     },
     "execution_count": 55,
     "metadata": {},
     "output_type": "execute_result"
    }
   ],
   "source": [
    "burkina_location.sort_values(by='long',ascending=True).head(1)"
   ]
  },
  {
   "cell_type": "markdown",
   "id": "a1e0f54a",
   "metadata": {},
   "source": [
    "### 4.4 Identification des lieux dont les coordonnées sont comprises entre (lat >= 11 et long <= 0.5)"
   ]
  },
  {
   "cell_type": "code",
   "execution_count": 67,
   "id": "51bbc2a4",
   "metadata": {},
   "outputs": [
    {
     "data": {
      "text/html": [
       "<div>\n",
       "<style scoped>\n",
       "    .dataframe tbody tr th:only-of-type {\n",
       "        vertical-align: middle;\n",
       "    }\n",
       "\n",
       "    .dataframe tbody tr th {\n",
       "        vertical-align: top;\n",
       "    }\n",
       "\n",
       "    .dataframe thead th {\n",
       "        text-align: right;\n",
       "    }\n",
       "</style>\n",
       "<table border=\"1\" class=\"dataframe\">\n",
       "  <thead>\n",
       "    <tr style=\"text-align: right;\">\n",
       "      <th></th>\n",
       "      <th>ID</th>\n",
       "      <th>location_name</th>\n",
       "      <th>lat</th>\n",
       "      <th>long</th>\n",
       "    </tr>\n",
       "  </thead>\n",
       "  <tbody>\n",
       "    <tr>\n",
       "      <th>0</th>\n",
       "      <td>2353158</td>\n",
       "      <td>Zyonguen</td>\n",
       "      <td>12.36667</td>\n",
       "      <td>-0.45000</td>\n",
       "    </tr>\n",
       "    <tr>\n",
       "      <th>1</th>\n",
       "      <td>2353159</td>\n",
       "      <td>Zyiliwèlè</td>\n",
       "      <td>12.38333</td>\n",
       "      <td>-2.73333</td>\n",
       "    </tr>\n",
       "    <tr>\n",
       "      <th>2</th>\n",
       "      <td>2353160</td>\n",
       "      <td>Zyanko</td>\n",
       "      <td>12.78333</td>\n",
       "      <td>-0.41667</td>\n",
       "    </tr>\n",
       "    <tr>\n",
       "      <th>3</th>\n",
       "      <td>2353161</td>\n",
       "      <td>Zouta</td>\n",
       "      <td>13.14908</td>\n",
       "      <td>-1.28197</td>\n",
       "    </tr>\n",
       "    <tr>\n",
       "      <th>4</th>\n",
       "      <td>2353162</td>\n",
       "      <td>Zourtenga</td>\n",
       "      <td>12.95741</td>\n",
       "      <td>-1.28745</td>\n",
       "    </tr>\n",
       "    <tr>\n",
       "      <th>...</th>\n",
       "      <td>...</td>\n",
       "      <td>...</td>\n",
       "      <td>...</td>\n",
       "      <td>...</td>\n",
       "    </tr>\n",
       "    <tr>\n",
       "      <th>11288</th>\n",
       "      <td>12358467</td>\n",
       "      <td>Katé</td>\n",
       "      <td>14.13461</td>\n",
       "      <td>-0.81244</td>\n",
       "    </tr>\n",
       "    <tr>\n",
       "      <th>11290</th>\n",
       "      <td>12358654</td>\n",
       "      <td>Koulholé</td>\n",
       "      <td>13.43898</td>\n",
       "      <td>-1.16817</td>\n",
       "    </tr>\n",
       "    <tr>\n",
       "      <th>11293</th>\n",
       "      <td>12358657</td>\n",
       "      <td>Nagbingou</td>\n",
       "      <td>13.55244</td>\n",
       "      <td>-0.46760</td>\n",
       "    </tr>\n",
       "    <tr>\n",
       "      <th>11295</th>\n",
       "      <td>12358676</td>\n",
       "      <td>Sella</td>\n",
       "      <td>14.35699</td>\n",
       "      <td>0.28666</td>\n",
       "    </tr>\n",
       "    <tr>\n",
       "      <th>11296</th>\n",
       "      <td>12358677</td>\n",
       "      <td>Kiefaye</td>\n",
       "      <td>13.78260</td>\n",
       "      <td>-1.58790</td>\n",
       "    </tr>\n",
       "  </tbody>\n",
       "</table>\n",
       "<p>9026 rows × 4 columns</p>\n",
       "</div>"
      ],
      "text/plain": [
       "             ID location_name       lat     long\n",
       "0       2353158      Zyonguen  12.36667 -0.45000\n",
       "1       2353159     Zyiliwèlè  12.38333 -2.73333\n",
       "2       2353160        Zyanko  12.78333 -0.41667\n",
       "3       2353161         Zouta  13.14908 -1.28197\n",
       "4       2353162     Zourtenga  12.95741 -1.28745\n",
       "...         ...           ...       ...      ...\n",
       "11288  12358467          Katé  14.13461 -0.81244\n",
       "11290  12358654      Koulholé  13.43898 -1.16817\n",
       "11293  12358657     Nagbingou  13.55244 -0.46760\n",
       "11295  12358676         Sella  14.35699  0.28666\n",
       "11296  12358677       Kiefaye  13.78260 -1.58790\n",
       "\n",
       "[9026 rows x 4 columns]"
      ]
     },
     "execution_count": 67,
     "metadata": {},
     "output_type": "execute_result"
    }
   ],
   "source": [
    "# latitude est supérieure ou égale à 11\n",
    "lat_sup_11=burkina_location['lat']>=11\n",
    "\n",
    "# longitude est inférieure ou égale à 0.5\n",
    "long_inf_zero_5=burkina_location['long']<=0.5\n",
    "\n",
    "# lieux dont les coordonnées sont comprises entre (lat >= 11 et long <= 0.5)\n",
    "burkina_location[lat_sup_11 & long_inf_zero_5]"
   ]
  },
  {
   "cell_type": "markdown",
   "id": "272a644a",
   "metadata": {},
   "source": [
    "### 5. Sorties Excel\n",
    "* installer la librairie xlrd et openpyxl"
   ]
  },
  {
   "cell_type": "markdown",
   "id": "4af6bc81",
   "metadata": {},
   "source": [
    "### 5.1 Création du fichier Excel"
   ]
  },
  {
   "cell_type": "code",
   "execution_count": 76,
   "id": "4701468d",
   "metadata": {},
   "outputs": [],
   "source": [
    "## Création du fichier Excel\n",
    "excel_file = pd.ExcelWriter(\"mini_projet.xlsx\")"
   ]
  },
  {
   "cell_type": "markdown",
   "id": "e157209d",
   "metadata": {},
   "source": [
    "### 5.2 Enregistrement de données dans la feuille \"gounghin\" du fichier Excel"
   ]
  },
  {
   "cell_type": "code",
   "execution_count": 77,
   "id": "8f553121",
   "metadata": {},
   "outputs": [],
   "source": [
    "gounghin.to_excel(excel_file,sheet_name='gounghin',index = False)"
   ]
  },
  {
   "cell_type": "markdown",
   "id": "ca88cd97",
   "metadata": {},
   "source": [
    "### 5.3 Enregistrement de données dans la feuille \"A_to_P\" du fichier Excel"
   ]
  },
  {
   "cell_type": "code",
   "execution_count": 78,
   "id": "1b16fe91",
   "metadata": {},
   "outputs": [],
   "source": [
    "location_name_A_to_P.to_excel(excel_file,sheet_name='A_to_P',index = False)"
   ]
  },
  {
   "cell_type": "code",
   "execution_count": 79,
   "id": "5550e69b",
   "metadata": {},
   "outputs": [],
   "source": [
    "### la methode save() pour enregistrer le fichier excel_file\n",
    "excel_file.save()"
   ]
  },
  {
   "cell_type": "code",
   "execution_count": null,
   "id": "07aabda4",
   "metadata": {},
   "outputs": [],
   "source": []
  }
 ],
 "metadata": {
  "kernelspec": {
   "display_name": "Python 3",
   "language": "python",
   "name": "python3"
  },
  "language_info": {
   "codemirror_mode": {
    "name": "ipython",
    "version": 3
   },
   "file_extension": ".py",
   "mimetype": "text/x-python",
   "name": "python",
   "nbconvert_exporter": "python",
   "pygments_lexer": "ipython3",
   "version": "3.8.8"
  }
 },
 "nbformat": 4,
 "nbformat_minor": 5
}
